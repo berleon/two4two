{
 "cells": [
  {
   "cell_type": "code",
   "execution_count": 1,
   "metadata": {},
   "outputs": [],
   "source": [
    "from two4two.blender import Blender\n",
    "from two4two.parameters import Parameters\n",
    "import os"
   ]
  },
  {
   "cell_type": "markdown",
   "metadata": {},
   "source": [
    "# Introduction\n",
    "In this example notebook we are going to create an image dataset with many images and several dataset splits. In a flowwing tutorial, the resulting image folder will later be used to train biases and unbiases deep learning models (with Keras+Tensorflow).\n",
    "\n",
    "In this example we are going to create a dataset that has a bias, meaning that Sticky and Strechy will have a specific stucture. We are also going to create an unbiases dataset.\n",
    "\n",
    "First we are going to create an unbiases dataset. This means it will contain images of sticky and stretchy and both will  be made of of block of various structure types. "
   ]
  },
  {
   "cell_type": "code",
   "execution_count": 15,
   "metadata": {},
   "outputs": [],
   "source": [
    "num_samples = 5000"
   ]
  },
  {
   "cell_type": "code",
   "execution_count": 16,
   "metadata": {},
   "outputs": [
    {
     "name": "stdout",
     "output_type": "stream",
     "text": [
      "Saving to /home/martin/242/examples/generated_data\n"
     ]
    }
   ],
   "source": [
    "save_dir = os.path.join(os.getcwd(),'generated_data')\n",
    "if not os.path.exists(save_dir):\n",
    "    os.makedirs(save_dir)\n",
    "    \n",
    "print(\"Saving to\",save_dir)"
   ]
  },
  {
   "cell_type": "markdown",
   "metadata": {},
   "source": [
    "First we define we use the Parameters object to create some random paramters which will later be used to render images that correspond to these parameters. We have to define a location where the parameters should be save.\n",
    "\n",
    "Here we generate the parameters for 5000 images of stretchy and sticky with random surface structure."
   ]
  },
  {
   "cell_type": "code",
   "execution_count": 25,
   "metadata": {},
   "outputs": [],
   "source": [
    "unbiased_training_params_file = os.path.join(save_dir, 'unbiasedTraining.json')\n",
    "params = Parameters()\n",
    "params.generate_many(n = num_samples,\n",
    "                     save_location = unbiased_training_params_file,\n",
    "                     object_types = 'random',\n",
    "                     structure_types = 'random')"
   ]
  },
  {
   "cell_type": "code",
   "execution_count": 26,
   "metadata": {},
   "outputs": [],
   "source": [
    "output_dir = os.path.join(save_dir,'unbiasedTraining')\n",
    "if not os.path.exists(output_dir):\n",
    "    os.makedirs(output_dir)"
   ]
  },
  {
   "cell_type": "markdown",
   "metadata": {},
   "source": [
    "Defining several workers is faster, choose the number of proccess and chunck size according to your processor architecture."
   ]
  },
  {
   "cell_type": "code",
   "execution_count": 27,
   "metadata": {},
   "outputs": [
    {
     "name": "stdout",
     "output_type": "stream",
     "text": [
      "Split /home/martin/242/examples/generated_data/unbiasedTraining.json into 100 chunks.\n"
     ]
    },
    {
     "data": {
      "text/plain": [
       "<two4two.blender.Blender at 0x7f1afe682700>"
      ]
     },
     "execution_count": 27,
     "metadata": {},
     "output_type": "execute_result"
    }
   ],
   "source": [
    "Blender(parameter_file = unbiased_training_params_file,\n",
    "        output_dir = output_dir,\n",
    "        n_processes = 16,\n",
    "        chunk_size = 50)"
   ]
  },
  {
   "cell_type": "code",
   "execution_count": 19,
   "metadata": {},
   "outputs": [],
   "source": [
    "biased_training_params_file = os.path.join(save_dir, 'biasedTraining.json')\n",
    "biased_training_params = Parameters()\n",
    "biased_training_params.generate_many(n = num_samples/2,\n",
    "                     save_location = biased_training_params_file,\n",
    "                     object_types = 'sticky',\n",
    "                     structure_types = 'cubes')"
   ]
  },
  {
   "cell_type": "code",
   "execution_count": 20,
   "metadata": {},
   "outputs": [],
   "source": [
    "biased_training_params.generate_many(n = num_samples/2,\n",
    "                     save_location = biased_training_params_file,\n",
    "                     object_types = 'stretchy',\n",
    "                     structure_types = 'spheres')"
   ]
  },
  {
   "cell_type": "markdown",
   "metadata": {},
   "source": [
    "**Caution** the previously created params file hinders the execution of blender - currently we need to move the file away to concat it later on. This is not elegant!"
   ]
  },
  {
   "cell_type": "code",
   "execution_count": 21,
   "metadata": {},
   "outputs": [],
   "source": [
    "output_dir = os.path.join(save_dir,'biasedTraining')\n",
    "if not os.path.exists(output_dir):\n",
    "    os.makedirs(output_dir)"
   ]
  },
  {
   "cell_type": "code",
   "execution_count": 22,
   "metadata": {},
   "outputs": [
    {
     "name": "stdout",
     "output_type": "stream",
     "text": [
      "Split /home/martin/242/examples/generated_data/biasedTraining.json into 100 chunks.\n"
     ]
    },
    {
     "data": {
      "text/plain": [
       "<two4two.blender.Blender at 0x7f1afe569e80>"
      ]
     },
     "execution_count": 22,
     "metadata": {},
     "output_type": "execute_result"
    }
   ],
   "source": [
    "Blender(parameter_file = biased_training_params_file,\n",
    "        output_dir = output_dir,\n",
    "        n_processes = 16,\n",
    "        chunk_size = 50)"
   ]
  },
  {
   "cell_type": "code",
   "execution_count": null,
   "metadata": {},
   "outputs": [],
   "source": []
  }
 ],
 "metadata": {
  "kernelspec": {
   "display_name": "Python 3",
   "language": "python",
   "name": "python3"
  },
  "language_info": {
   "codemirror_mode": {
    "name": "ipython",
    "version": 3
   },
   "file_extension": ".py",
   "mimetype": "text/x-python",
   "name": "python",
   "nbconvert_exporter": "python",
   "pygments_lexer": "ipython3",
   "version": "3.8.7"
  }
 },
 "nbformat": 4,
 "nbformat_minor": 4
}
