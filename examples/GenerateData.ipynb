{
 "cells": [
  {
   "cell_type": "code",
   "execution_count": 1,
   "metadata": {},
   "outputs": [],
   "source": [
    "from two4two.blender import Blender\n",
    "from two4two.parameters import Parameters\n",
    "import os"
   ]
  },
  {
   "cell_type": "code",
   "execution_count": 2,
   "metadata": {},
   "outputs": [],
   "source": [
    "num_samples = 50000"
   ]
  },
  {
   "cell_type": "code",
   "execution_count": 3,
   "metadata": {},
   "outputs": [],
   "source": [
    "object_variants = ['sticky', 'stretchy']\n",
    "structure_variants = ['cubes', 'spheres', 'random']"
   ]
  },
  {
   "cell_type": "code",
   "execution_count": 4,
   "metadata": {},
   "outputs": [],
   "source": [
    "save_dir = '/home/philipp/242/data'"
   ]
  },
  {
   "cell_type": "code",
   "execution_count": 5,
   "metadata": {},
   "outputs": [],
   "source": [
    "n_processes = 16\n",
    "chunk_size = 50"
   ]
  },
  {
   "cell_type": "code",
   "execution_count": null,
   "metadata": {},
   "outputs": [
    {
     "name": "stdout",
     "output_type": "stream",
     "text": [
      "Split /home/philipp/242/data/sticky_cubes.json into 1000 chunks.\n",
      "Split /home/philipp/242/data/sticky_spheres.json into 1000 chunks.\n"
     ]
    }
   ],
   "source": [
    "for objects in object_variants:\n",
    "    for structure in structure_variants:\n",
    "        \n",
    "        variant = objects + '_' + structure\n",
    "        params_file = os.path.join(save_dir, variant+'.json')\n",
    "        \n",
    "        params = Parameters()\n",
    "        params.generate_many(num_samples, params_file, objects, structure)\n",
    "        \n",
    "        output_dir = os.path.join(save_dir, variant)\n",
    "        assert not os.path.isdir(output_dir)\n",
    "        os.mkdir(output_dir)\n",
    "        \n",
    "        Blender(params_file, output_dir, n_processes, chunk_size)"
   ]
  }
 ],
 "metadata": {
  "kernelspec": {
   "display_name": "Python 3",
   "language": "python",
   "name": "python3"
  },
  "language_info": {
   "codemirror_mode": {
    "name": "ipython",
    "version": 3
   },
   "file_extension": ".py",
   "mimetype": "text/x-python",
   "name": "python",
   "nbconvert_exporter": "python",
   "pygments_lexer": "ipython3",
   "version": "3.7.9"
  }
 },
 "nbformat": 4,
 "nbformat_minor": 4
}
