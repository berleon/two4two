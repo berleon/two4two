{
 "cells": [
  {
   "cell_type": "code",
   "execution_count": 1,
   "metadata": {},
   "outputs": [],
   "source": [
    "from two4two.blender import Blender\n",
    "from two4two.parameters import Parameters\n",
    "import os\n",
    "import numpy as np\n",
    "\n",
    "np.random.seed(2342)"
   ]
  },
  {
   "cell_type": "markdown",
   "metadata": {},
   "source": [
    "# README.md examples\n",
    "Here the example images for the readme are created."
   ]
  },
  {
   "cell_type": "markdown",
   "metadata": {},
   "source": [
    "This file must not exist before running the script. All image parameters will be saved to this file."
   ]
  },
  {
   "cell_type": "code",
   "execution_count": 2,
   "metadata": {},
   "outputs": [],
   "source": [
    "params_file = '/home/philipp/242/examples/sample_examples.json'"
   ]
  },
  {
   "cell_type": "markdown",
   "metadata": {},
   "source": [
    "Just create a parameter class. We will modify it by hand to explain all parameters."
   ]
  },
  {
   "cell_type": "code",
   "execution_count": 3,
   "metadata": {},
   "outputs": [],
   "source": [
    "params = Parameters()"
   ]
  },
  {
   "cell_type": "markdown",
   "metadata": {},
   "source": [
    "The parameters `bone_bend` and `bone_rotation` set the pose. Since there are 8 blocks with bones in between we need seven bend and rotation angles. For now the objects will be flat. Thus all angles are zero."
   ]
  },
  {
   "cell_type": "code",
   "execution_count": 4,
   "metadata": {},
   "outputs": [],
   "source": [
    "params.bone_bend = np.zeros(7).tolist()\n",
    "params.bone_rotation = np.zeros(7).tolist()"
   ]
  },
  {
   "cell_type": "markdown",
   "metadata": {},
   "source": [
    "We can tilt the object with `obj_incline` and rotate it with `obj_rotation`. These will also be set to zero for a frontal view."
   ]
  },
  {
   "cell_type": "code",
   "execution_count": 5,
   "metadata": {},
   "outputs": [],
   "source": [
    "params.obj_incline = 0\n",
    "params.obj_rotation = 0"
   ]
  },
  {
   "cell_type": "markdown",
   "metadata": {},
   "source": [
    "The object will be put in the center of the image by setting `position` to zero."
   ]
  },
  {
   "cell_type": "code",
   "execution_count": 6,
   "metadata": {},
   "outputs": [],
   "source": [
    "params.position = [0, 0]"
   ]
  },
  {
   "cell_type": "markdown",
   "metadata": {},
   "source": [
    "The `arm_shift` can be used to morph one class into the other. For the stretchy class it moves the arms inboard and vice versa."
   ]
  },
  {
   "cell_type": "code",
   "execution_count": 7,
   "metadata": {},
   "outputs": [],
   "source": [
    "params.arm_shift = 0"
   ]
  },
  {
   "cell_type": "markdown",
   "metadata": {},
   "source": [
    "The color of both object and background can be set via (r, b, g, $\\alpha$)"
   ]
  },
  {
   "cell_type": "code",
   "execution_count": 8,
   "metadata": {},
   "outputs": [],
   "source": [
    "params.obj_color = (0.8823529411764706, 0.8823529411764706, 1.0, 1.0)\n",
    "params.back_color = (0.53, 0.53, 0.53, 1.0)"
   ]
  },
  {
   "cell_type": "markdown",
   "metadata": {},
   "source": [
    "The default `resolution` is `(128, 128)`. We increas that to not have tiny images."
   ]
  },
  {
   "cell_type": "code",
   "execution_count": 9,
   "metadata": {},
   "outputs": [],
   "source": [
    "params.resolution = (800, 500)"
   ]
  },
  {
   "cell_type": "code",
   "execution_count": 10,
   "metadata": {},
   "outputs": [],
   "source": [
    "with open(params_file, mode='x') as f:\n",
    "    \n",
    "    params.obj_name = 'sticky'\n",
    "    params.filename = 'sticky_cubes.png'\n",
    "    params.spherical = 0\n",
    "    params.save_parameters(f)\n",
    "    \n",
    "    params.obj_name = 'stretchy'\n",
    "    params.filename = 'stretchy_spheres.png'\n",
    "    params.spherical = 1\n",
    "    params.save_parameters(f)\n",
    "  \n",
    "    params.obj_name = 'sticky'\n",
    "    params.filename = 'sticky_intermediate.png'\n",
    "    params.spherical = 0.5\n",
    "    params.save_parameters(f)\n",
    "    \n",
    "    params.obj_name = 'sticky'\n",
    "    params.filename = 'sticky_pose.png'\n",
    "    params.spherical = 1\n",
    "    params.bone_bend = np.random.uniform(-0.25, 0.25, size=7).tolist()\n",
    "    params.bone_rotation = np.random.uniform(-0.15, 0.15, size=7).tolist()\n",
    "    params.save_parameters(f)\n",
    "    \n",
    "    params.obj_name = 'sticky'\n",
    "    params.filename = 'sticky_color.png'\n",
    "    params.spherical = 0\n",
    "    params.bone_bend = np.zeros(7).tolist()\n",
    "    params.bone_rotation = np.zeros(7).tolist()\n",
    "    params.obj_color = (0.67, 0, 0.67, 1.0)\n",
    "    params.back_color = (0, 0.3, 0, 1.0)\n",
    "    params.save_parameters(f)\n",
    "    \n",
    "    params.obj_color = (0.8823529411764706, 0.8823529411764706, 1.0, 1.0)\n",
    "    params.back_color = (0.53, 0.53, 0.53, 1.0)\n",
    "    \n",
    "    params.obj_name = 'sticky'\n",
    "    params.filename = 'sticky_shift_0.png'\n",
    "    params.arm_shift = 0\n",
    "    params.save_parameters(f)\n",
    "    \n",
    "    params.obj_name = 'sticky'\n",
    "    params.filename = 'sticky_shift_05.png'\n",
    "    params.arm_shift = 0.5\n",
    "    params.save_parameters(f)\n",
    "    \n",
    "    params.obj_name = 'sticky'\n",
    "    params.filename = 'sticky_shift_1.png'\n",
    "    params.arm_shift = 1\n",
    "    params.save_parameters(f)"
   ]
  },
  {
   "cell_type": "code",
   "execution_count": 11,
   "metadata": {},
   "outputs": [
    {
     "name": "stdout",
     "output_type": "stream",
     "text": [
      "Split /home/philipp/242/examples/sample_examples.json into 8 chunks.\n"
     ]
    }
   ],
   "source": [
    "output_dir = '/home/philipp/242/examples/sample_examples'\n",
    "\n",
    "Blender(params_file, output_dir, 16, 1)\n",
    "\n",
    "os.remove(params_file)"
   ]
  },
  {
   "cell_type": "code",
   "execution_count": null,
   "metadata": {},
   "outputs": [],
   "source": []
  }
 ],
 "metadata": {
  "kernelspec": {
   "display_name": "Python 3",
   "language": "python",
   "name": "python3"
  },
  "language_info": {
   "codemirror_mode": {
    "name": "ipython",
    "version": 3
   },
   "file_extension": ".py",
   "mimetype": "text/x-python",
   "name": "python",
   "nbconvert_exporter": "python",
   "pygments_lexer": "ipython3",
   "version": "3.7.9"
  }
 },
 "nbformat": 4,
 "nbformat_minor": 4
}
