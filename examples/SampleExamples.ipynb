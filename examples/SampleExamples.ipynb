{
 "cells": [
  {
   "cell_type": "code",
   "execution_count": 1,
   "metadata": {},
   "outputs": [],
   "source": [
    "from two4two.blender import Blender\n",
    "from two4two.parameters import Parameters\n",
    "import os\n",
    "import numpy as np"
   ]
  },
  {
   "cell_type": "code",
   "execution_count": 2,
   "metadata": {},
   "outputs": [],
   "source": [
    "params_file = '/home/philipp/242/examples/sample_examples.json'"
   ]
  },
  {
   "cell_type": "code",
   "execution_count": 3,
   "metadata": {},
   "outputs": [],
   "source": [
    "params = Parameters()"
   ]
  },
  {
   "cell_type": "code",
   "execution_count": 4,
   "metadata": {},
   "outputs": [],
   "source": [
    "params.bone_bend = np.zeros(7).tolist()\n",
    "params.bone_rotation = np.zeros(7).tolist()\n",
    "params.obj_incline = 0\n",
    "params.obj_rotation = 0\n",
    "params.position = [0, 0]\n",
    "params.arm_shift = 0\n",
    "params.obj_color = (0.8823529411764706, 0.8823529411764706, 1.0, 1.0)\n",
    "params.back_color = (0.53, 0.53, 0.53, 1.0)\n",
    "params.resolution = (800, 500)"
   ]
  },
  {
   "cell_type": "code",
   "execution_count": 5,
   "metadata": {},
   "outputs": [],
   "source": [
    "with open(params_file, mode='x') as f:\n",
    "    \n",
    "    params.obj_name = 'sticky'\n",
    "    params.filename = 'sticky_cubes.png'\n",
    "    params.spherical = 0\n",
    "    params.save_parameters(f)\n",
    "    \n",
    "    params.obj_name = 'stretchy'\n",
    "    params.filename = 'stretchy_spheres.png'\n",
    "    params.spherical = 1\n",
    "    params.save_parameters(f)\n",
    "  \n",
    "    params.obj_name = 'sticky'\n",
    "    params.filename = 'sticky_intermediate.png'\n",
    "    params.spherical = 0.5\n",
    "    params.save_parameters(f)\n",
    "    \n",
    "    params.obj_name = 'sticky'\n",
    "    params.filename = 'sticky_pose.png'\n",
    "    params.spherical = 1\n",
    "    params.bone_bend = np.random.uniform(-0.25, 0.25, size=7).tolist()\n",
    "    params.bone_rotation = np.random.uniform(-0.15, 0.15, size=7).tolist()\n",
    "    params.save_parameters(f)\n",
    "    \n",
    "    params.obj_name = 'sticky'\n",
    "    params.filename = 'sticky_color.png'\n",
    "    params.spherical = 0\n",
    "    params.bone_bend = np.zeros(7).tolist()\n",
    "    params.bone_rotation = np.zeros(7).tolist()\n",
    "    params.obj_color = (0.67, 0, 0.67, 1.0)\n",
    "    params.back_color = (0, 0.3, 0, 1.0)\n",
    "    params.save_parameters(f)\n",
    "    \n",
    "    params.obj_color = (0.8823529411764706, 0.8823529411764706, 1.0, 1.0)\n",
    "    params.back_color = (0.53, 0.53, 0.53, 1.0)\n",
    "    \n",
    "    params.obj_name = 'sticky'\n",
    "    params.filename = 'sticky_shift_0.png'\n",
    "    params.arm_shift = 0\n",
    "    params.save_parameters(f)\n",
    "    \n",
    "    params.obj_name = 'sticky'\n",
    "    params.filename = 'sticky_shift_05.png'\n",
    "    params.arm_shift = 0.5\n",
    "    params.save_parameters(f)\n",
    "    \n",
    "    params.obj_name = 'sticky'\n",
    "    params.filename = 'sticky_shift_1.png'\n",
    "    params.arm_shift = 1\n",
    "    params.save_parameters(f)"
   ]
  },
  {
   "cell_type": "code",
   "execution_count": 6,
   "metadata": {},
   "outputs": [
    {
     "name": "stdout",
     "output_type": "stream",
     "text": [
      "Split /home/philipp/242/examples/sample_examples.json into 8 chunks.\n",
      "Started to Process /home/philipp/242/examples/sample_examples_chunk_1.json\n",
      "Started to Process /home/philipp/242/examples/sample_examples_chunk_2.json\n",
      "Started to Process /home/philipp/242/examples/sample_examples_chunk_3.json\n",
      "Started to Process /home/philipp/242/examples/sample_examples_chunk_4.json\n",
      "Started to Process /home/philipp/242/examples/sample_examples_chunk_5.json\n",
      "Started to Process /home/philipp/242/examples/sample_examples_chunk_6.json\n",
      "Started to Process /home/philipp/242/examples/sample_examples_chunk_7.json\n",
      "Started to Process /home/philipp/242/examples/sample_examples_chunk_8.json\n",
      "Test\n",
      "/home/philipp/242/examples/sample_examples/params_chunk_0.json\n",
      "/home/philipp/242/examples/sample_examples/params_chunk_1.json\n",
      "/home/philipp/242/examples/sample_examples/params_chunk_2.json\n",
      "/home/philipp/242/examples/sample_examples/params_chunk_3.json\n",
      "/home/philipp/242/examples/sample_examples/params_chunk_4.json\n",
      "/home/philipp/242/examples/sample_examples/params_chunk_5.json\n",
      "/home/philipp/242/examples/sample_examples/params_chunk_6.json\n",
      "/home/philipp/242/examples/sample_examples/params_chunk_7.json\n"
     ]
    }
   ],
   "source": [
    "output_dir = '/home/philipp/242/examples/sample_examples'\n",
    "\n",
    "Blender(params_file, output_dir, 16, 1)\n",
    "\n",
    "os.remove(params_file)"
   ]
  }
 ],
 "metadata": {
  "kernelspec": {
   "display_name": "Python 3",
   "language": "python",
   "name": "python3"
  },
  "language_info": {
   "codemirror_mode": {
    "name": "ipython",
    "version": 3
   },
   "file_extension": ".py",
   "mimetype": "text/x-python",
   "name": "python",
   "nbconvert_exporter": "python",
   "pygments_lexer": "ipython3",
   "version": "3.7.9"
  }
 },
 "nbformat": 4,
 "nbformat_minor": 4
}
