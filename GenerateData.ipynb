{
 "cells": [
  {
   "cell_type": "code",
   "execution_count": 1,
   "metadata": {},
   "outputs": [],
   "source": [
    "from two4two.blender import Blender\n",
    "from two4two.parameters import Parameters\n",
    "import os"
   ]
  },
  {
   "cell_type": "code",
   "execution_count": 2,
   "metadata": {},
   "outputs": [],
   "source": [
    "params_file = '/home/philipp/242/data/dataset.json'\n",
    "num_samples = 10\n",
    "object_types = 'random'\n",
    "structure_types = 'random'"
   ]
  },
  {
   "cell_type": "code",
   "execution_count": 3,
   "metadata": {},
   "outputs": [],
   "source": [
    "object_variants = ['sticky']#, 'stretchy']\n",
    "structure_variants = ['cubes']#, 'spheres', 'random']"
   ]
  },
  {
   "cell_type": "code",
   "execution_count": 4,
   "metadata": {},
   "outputs": [],
   "source": [
    "directory = '/home/philipp/two4two/data'"
   ]
  },
  {
   "cell_type": "code",
   "execution_count": 5,
   "metadata": {},
   "outputs": [],
   "source": [
    "n_processes = 16\n",
    "chunk_size = 50"
   ]
  },
  {
   "cell_type": "code",
   "execution_count": 6,
   "metadata": {},
   "outputs": [
    {
     "name": "stdout",
     "output_type": "stream",
     "text": [
      "Split /home/philipp/two4two/data/sticky_cubes.json into 1 chunks.\n",
      "Started to Process /home/philipp/two4two/data/sticky_cubes_chunk_1.json\n"
     ]
    }
   ],
   "source": [
    "for objects in object_variants:\n",
    "    for structure in structure_variants:\n",
    "        \n",
    "        variant = objects + '_' + structure\n",
    "        params_file = os.path.join(directory, variant+'.json')\n",
    "        \n",
    "        params = Parameters()\n",
    "        params.generate_many(num_samples, params_file, objects, structure)\n",
    "        \n",
    "        output_dir = os.path.join(directory, variant)\n",
    "        assert not os.path.isdir(output_dir)\n",
    "        os.mkdir(output_dir)\n",
    "        \n",
    "        Blender(params_file, output_dir, n_processes, chunk_size)"
   ]
  }
 ],
 "metadata": {
  "kernelspec": {
   "display_name": "Python 3",
   "language": "python",
   "name": "python3"
  },
  "language_info": {
   "codemirror_mode": {
    "name": "ipython",
    "version": 3
   },
   "file_extension": ".py",
   "mimetype": "text/x-python",
   "name": "python",
   "nbconvert_exporter": "python",
   "pygments_lexer": "ipython3",
   "version": "3.7.9"
  }
 },
 "nbformat": 4,
 "nbformat_minor": 4
}
